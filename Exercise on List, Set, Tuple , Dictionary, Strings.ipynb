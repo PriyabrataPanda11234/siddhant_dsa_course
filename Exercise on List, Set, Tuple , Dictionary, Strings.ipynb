{
 "cells": [
  {
   "cell_type": "markdown",
   "id": "d92a1828",
   "metadata": {},
   "source": [
    "## List"
   ]
  },
  {
   "cell_type": "markdown",
   "id": "34c05b8e",
   "metadata": {},
   "source": [
    "**List is a built in data type in Python**\n"
   ]
  },
  {
   "cell_type": "code",
   "execution_count": 7,
   "id": "d03bbf05",
   "metadata": {},
   "outputs": [],
   "source": [
    "## syntax to create a list is\n",
    "l=list([1,2,3,4,5,6])\n",
    "## or you can define a list in this way\n",
    "l=[1,2,3,4,5]"
   ]
  },
  {
   "cell_type": "code",
   "execution_count": 58,
   "id": "32f30a6f",
   "metadata": {},
   "outputs": [
    {
     "data": {
      "text/plain": [
       "list"
      ]
     },
     "execution_count": 58,
     "metadata": {},
     "output_type": "execute_result"
    }
   ],
   "source": [
    "## If you want to see the type\n",
    "type(l)"
   ]
  },
  {
   "cell_type": "code",
   "execution_count": null,
   "id": "9b02182b",
   "metadata": {},
   "outputs": [],
   "source": [
    "## Now create a list containing alphabets \"a\",\"b\",\"c\",\"d\", and print the list\n",
    "## Ans\n",
    "\n"
   ]
  },
  {
   "cell_type": "code",
   "execution_count": 8,
   "id": "9ae2f15a",
   "metadata": {},
   "outputs": [
    {
     "name": "stdout",
     "output_type": "stream",
     "text": [
      "[1, 2, 3, 4, 5]\n"
     ]
    }
   ],
   "source": [
    "## list.append(ele) in python. This method is used to insert an element in the list at the end.\n",
    "l=[1,2,3,4]\n",
    "l.append(5)\n",
    "print(l)"
   ]
  },
  {
   "cell_type": "code",
   "execution_count": null,
   "id": "0de800ee",
   "metadata": {},
   "outputs": [],
   "source": [
    "## Now append 6 to the same list defined above and print it\n",
    "##Ans\n"
   ]
  },
  {
   "cell_type": "code",
   "execution_count": 16,
   "id": "2fff1e34",
   "metadata": {},
   "outputs": [
    {
     "name": "stdout",
     "output_type": "stream",
     "text": [
      "[10, 1, 2, 3, 4, 5, 6]\n"
     ]
    }
   ],
   "source": [
    "## Inserting an element at any position l.insert(index,val)\n",
    "l=[1,2,3,4,5,6]\n",
    "l.insert(0,10)\n",
    "print(l)"
   ]
  },
  {
   "cell_type": "code",
   "execution_count": null,
   "id": "d23d3dfc",
   "metadata": {},
   "outputs": [],
   "source": [
    "## Now insert 5 in the above given list at index 2\n",
    "## ANS\n",
    "\n"
   ]
  },
  {
   "cell_type": "code",
   "execution_count": 10,
   "id": "5debbc4a",
   "metadata": {},
   "outputs": [
    {
     "name": "stdout",
     "output_type": "stream",
     "text": [
      "1\n",
      "2\n"
     ]
    }
   ],
   "source": [
    "## we can access any element of a list by indexing\n",
    "l=[1,2,3,4,5]\n",
    "## to get first element\n",
    "print(l[0])\n",
    "## to get second element\n",
    "print(l[1])"
   ]
  },
  {
   "cell_type": "code",
   "execution_count": 11,
   "id": "e78d26c1",
   "metadata": {},
   "outputs": [],
   "source": [
    "## print the third and last element of the list defined above\n",
    "##ANS\n",
    "\n"
   ]
  },
  {
   "cell_type": "code",
   "execution_count": 1,
   "id": "6273c893",
   "metadata": {},
   "outputs": [
    {
     "name": "stdout",
     "output_type": "stream",
     "text": [
      "[3, 4, 5, 6, 7]\n"
     ]
    }
   ],
   "source": [
    "## Slicing of a list\n",
    "l=[1,2,3,4,5,6,7]\n",
    "## Inorder to see all elements right to position 2\n",
    "print(l[2:])"
   ]
  },
  {
   "cell_type": "code",
   "execution_count": 2,
   "id": "b6beab32",
   "metadata": {},
   "outputs": [],
   "source": [
    "## Print all elements till second last elements\n",
    "##Ans\n",
    "\n"
   ]
  },
  {
   "cell_type": "code",
   "execution_count": 7,
   "id": "0af58208",
   "metadata": {},
   "outputs": [
    {
     "name": "stdout",
     "output_type": "stream",
     "text": [
      "[1, 3, 5, 7]\n"
     ]
    }
   ],
   "source": [
    "## Print all alternate elements of the abovelist\n",
    "## Ans\n",
    "\n"
   ]
  },
  {
   "cell_type": "code",
   "execution_count": 12,
   "id": "31d5407c",
   "metadata": {},
   "outputs": [
    {
     "name": "stdout",
     "output_type": "stream",
     "text": [
      "[6, 5, 4, 3, 2, 1]\n"
     ]
    }
   ],
   "source": [
    "## Inorder to reverse a list permanentely\n",
    "l=[1,2,3,4,5,6]\n",
    "l.reverse()\n",
    "print(l)"
   ]
  },
  {
   "cell_type": "code",
   "execution_count": 14,
   "id": "7fd215fd",
   "metadata": {},
   "outputs": [
    {
     "name": "stdout",
     "output_type": "stream",
     "text": [
      "[8, 7, 6, 5, 5, 4, 3]\n"
     ]
    }
   ],
   "source": [
    "## Reverse the given list\n",
    "l2=[3,4,5,5,6,7,8]\n",
    "##ANS\n",
    "\n",
    "\n",
    "print(l2)"
   ]
  },
  {
   "cell_type": "code",
   "execution_count": 20,
   "id": "8306e97b",
   "metadata": {},
   "outputs": [
    {
     "name": "stdout",
     "output_type": "stream",
     "text": [
      "[1, 2, 3, 4, 5]\n"
     ]
    }
   ],
   "source": [
    "## Inorder to remove any elememnt from the end of a list \n",
    "l=[1,2,3,4,5,6]\n",
    "l.pop()\n",
    "print(l)"
   ]
  },
  {
   "cell_type": "code",
   "execution_count": 21,
   "id": "cfb0b488",
   "metadata": {},
   "outputs": [
    {
     "name": "stdout",
     "output_type": "stream",
     "text": [
      "[1, 2, 3, 4, 5]\n"
     ]
    }
   ],
   "source": [
    "## Remove last element of the given list\n",
    "l=[1,2,3,4,5,6]\n",
    "\n",
    "#ANS\n",
    "\n",
    "\n",
    "\n",
    "print(l)"
   ]
  },
  {
   "cell_type": "code",
   "execution_count": 22,
   "id": "e0a98b7d",
   "metadata": {},
   "outputs": [
    {
     "name": "stdout",
     "output_type": "stream",
     "text": [
      "[1, 2, 4, 5, 6]\n"
     ]
    }
   ],
   "source": [
    "## Remove the element at any given position  l.pop(index)\n",
    "l=[1,2,3,4,5,6]\n",
    "l.pop(2) \n",
    "print(l)"
   ]
  },
  {
   "cell_type": "code",
   "execution_count": 23,
   "id": "e762be49",
   "metadata": {},
   "outputs": [
    {
     "name": "stdout",
     "output_type": "stream",
     "text": [
      "[1, 2, 3, 5, 6, 7, 8]\n"
     ]
    }
   ],
   "source": [
    "## Similarly remove 3 index from  the given list\n",
    "l=[1,2,3,4,5,6,7,8]\n",
    "\n",
    "##Ans\n",
    "\n",
    "\n",
    "print(l)"
   ]
  },
  {
   "cell_type": "code",
   "execution_count": 24,
   "id": "f4234eea",
   "metadata": {},
   "outputs": [
    {
     "name": "stdout",
     "output_type": "stream",
     "text": [
      "[1, 2, 3, 4, 5]\n"
     ]
    }
   ],
   "source": [
    "## To remove any particular value from a list use l.remove(value)\n",
    "l=[1,2,3,4,5,6]\n",
    "l.remove(6)\n",
    "print(l)"
   ]
  },
  {
   "cell_type": "code",
   "execution_count": 25,
   "id": "63b5875a",
   "metadata": {},
   "outputs": [
    {
     "name": "stdout",
     "output_type": "stream",
     "text": [
      "[20, 30, 40, 50, 60]\n"
     ]
    }
   ],
   "source": [
    "## Remove the value 10 from the given list\n",
    "l=[10,20,30,40,50,60]\n",
    "\n",
    "##ANS\n",
    "\n",
    "\n",
    "\n",
    "\n",
    "print(l)"
   ]
  },
  {
   "cell_type": "markdown",
   "id": "7545f5a0",
   "metadata": {},
   "source": [
    "## Dictionary"
   ]
  },
  {
   "cell_type": "markdown",
   "id": "d1e9b22a",
   "metadata": {},
   "source": [
    "**Dictionaries are used to store data values in key:value pairs.**|"
   ]
  },
  {
   "cell_type": "code",
   "execution_count": 36,
   "id": "754b36c6",
   "metadata": {},
   "outputs": [],
   "source": [
    "## Syntax to create a dictionary\n",
    "d={\"A\":1,\"B\":2,\"C\":3,\"D\":4}"
   ]
  },
  {
   "cell_type": "code",
   "execution_count": 57,
   "id": "0ec85159",
   "metadata": {},
   "outputs": [
    {
     "data": {
      "text/plain": [
       "dict"
      ]
     },
     "execution_count": 57,
     "metadata": {},
     "output_type": "execute_result"
    }
   ],
   "source": [
    "## If you want to see the type\n",
    "type(d)"
   ]
  },
  {
   "cell_type": "code",
   "execution_count": 37,
   "id": "79ca52ea",
   "metadata": {},
   "outputs": [],
   "source": [
    "## Here [\"A\",\"B\",\"C\",\"D\"] are called keys\n",
    "## [1,2,3,4] are called values"
   ]
  },
  {
   "cell_type": "code",
   "execution_count": 38,
   "id": "838b8e1a",
   "metadata": {},
   "outputs": [
    {
     "data": {
      "text/plain": [
       "dict_keys(['A', 'B', 'C', 'D'])"
      ]
     },
     "execution_count": 38,
     "metadata": {},
     "output_type": "execute_result"
    }
   ],
   "source": [
    "## In order to get all keys of a dictionary\n",
    "d.keys()"
   ]
  },
  {
   "cell_type": "code",
   "execution_count": 39,
   "id": "ae47c029",
   "metadata": {},
   "outputs": [
    {
     "data": {
      "text/plain": [
       "dict_values([1, 2, 3, 4])"
      ]
     },
     "execution_count": 39,
     "metadata": {},
     "output_type": "execute_result"
    }
   ],
   "source": [
    "## In order to get all values of a dictionary\n",
    "d.values()"
   ]
  },
  {
   "cell_type": "code",
   "execution_count": 40,
   "id": "10ce06cc",
   "metadata": {},
   "outputs": [
    {
     "name": "stdout",
     "output_type": "stream",
     "text": [
      "The value of A key 1\n",
      "The value of B key 2\n"
     ]
    }
   ],
   "source": [
    "## You can access any value by its key\n",
    "print(\"The value of A key\",d[\"A\"])\n",
    "print(\"The value of B key\",d[\"B\"])"
   ]
  },
  {
   "cell_type": "code",
   "execution_count": 41,
   "id": "4bee5fd4",
   "metadata": {},
   "outputs": [
    {
     "data": {
      "text/plain": [
       "dict_items([('A', 1), ('B', 2), ('C', 3), ('D', 4)])"
      ]
     },
     "execution_count": 41,
     "metadata": {},
     "output_type": "execute_result"
    }
   ],
   "source": [
    "## If you want to get the key and items as a pair \n",
    "d.items()"
   ]
  },
  {
   "cell_type": "code",
   "execution_count": 42,
   "id": "1f14ca0a",
   "metadata": {},
   "outputs": [
    {
     "name": "stdout",
     "output_type": "stream",
     "text": [
      "A 1\n",
      "B 2\n",
      "C 3\n",
      "D 4\n"
     ]
    }
   ],
   "source": [
    "## In order to iterate over a dictionary\n",
    "for key, value in d.items():\n",
    "    print(key,value)"
   ]
  },
  {
   "cell_type": "code",
   "execution_count": 43,
   "id": "305d1e54",
   "metadata": {},
   "outputs": [],
   "source": [
    "## If you want to create new key value pair \n",
    "d[\"E\"]=5"
   ]
  },
  {
   "cell_type": "code",
   "execution_count": 44,
   "id": "98e768f7",
   "metadata": {},
   "outputs": [
    {
     "data": {
      "text/plain": [
       "{'A': 1, 'B': 2, 'C': 3, 'D': 4, 'E': 5}"
      ]
     },
     "execution_count": 44,
     "metadata": {},
     "output_type": "execute_result"
    }
   ],
   "source": [
    "d"
   ]
  },
  {
   "cell_type": "code",
   "execution_count": null,
   "id": "37b4451d",
   "metadata": {},
   "outputs": [],
   "source": [
    "## HomeWork\n",
    "## Create a dictionar in which the keys will be the days of the week like Sunday, Munday......\n",
    "## And the values will be 0,1,..6 i.e Sunday:0, Munday:1......\n"
   ]
  },
  {
   "cell_type": "code",
   "execution_count": null,
   "id": "0baf7200",
   "metadata": {},
   "outputs": [],
   "source": [
    "## Now print all the keys prsent in the dictionary\n",
    "#Ans"
   ]
  },
  {
   "cell_type": "code",
   "execution_count": 45,
   "id": "3be1a022",
   "metadata": {},
   "outputs": [],
   "source": [
    "## Print all the values prsent in the dictionary\n",
    "##Ans"
   ]
  },
  {
   "cell_type": "code",
   "execution_count": 46,
   "id": "667fc9bc",
   "metadata": {},
   "outputs": [],
   "source": [
    "## A values can be list , string, set ,tuple too\n",
    "d={\"a\":[10,20,30],\"b\":[40,50]}"
   ]
  },
  {
   "cell_type": "code",
   "execution_count": 47,
   "id": "e715718a",
   "metadata": {},
   "outputs": [
    {
     "data": {
      "text/plain": [
       "{'a': [10, 20, 30], 'b': [40, 50]}"
      ]
     },
     "execution_count": 47,
     "metadata": {},
     "output_type": "execute_result"
    }
   ],
   "source": [
    "d"
   ]
  },
  {
   "cell_type": "code",
   "execution_count": null,
   "id": "4afb8017",
   "metadata": {},
   "outputs": [],
   "source": [
    "## Now insert a new key value pair i.e \"c\":[100,200,300]\n",
    "##Ans\n",
    "\n",
    "\n"
   ]
  },
  {
   "cell_type": "code",
   "execution_count": 48,
   "id": "f9609c14",
   "metadata": {},
   "outputs": [],
   "source": [
    "d={\"a\":{\"b\":[10,20,30,40]},\"c\":{\"d\":[30,40,50,60]}}"
   ]
  },
  {
   "cell_type": "code",
   "execution_count": 51,
   "id": "610def58",
   "metadata": {},
   "outputs": [
    {
     "data": {
      "text/plain": [
       "{'a': {'b': [10, 20, 30, 40]}, 'c': {'d': [30, 40, 50, 60]}}"
      ]
     },
     "execution_count": 51,
     "metadata": {},
     "output_type": "execute_result"
    }
   ],
   "source": [
    "d"
   ]
  },
  {
   "cell_type": "code",
   "execution_count": 50,
   "id": "0c2b0857",
   "metadata": {},
   "outputs": [],
   "source": [
    "## Access the values 40 from the above dictionary\n",
    "##Ans\n",
    "\n"
   ]
  },
  {
   "cell_type": "code",
   "execution_count": 52,
   "id": "5a4a6acf",
   "metadata": {},
   "outputs": [],
   "source": [
    "## Access the value 60 from the above dictionary\n",
    "## Ans\n",
    "\n"
   ]
  },
  {
   "cell_type": "markdown",
   "id": "25c72994",
   "metadata": {},
   "source": [
    "## Tuple"
   ]
  },
  {
   "cell_type": "code",
   "execution_count": 53,
   "id": "2337032b",
   "metadata": {},
   "outputs": [
    {
     "name": "stdout",
     "output_type": "stream",
     "text": [
      "(10, 20, 30, 54, 100)\n"
     ]
    }
   ],
   "source": [
    "## Tuple is immutable i.e its size is fixed. Once defined, you can't change it\n",
    "## Syntax to create a tuple\n",
    "t=(10,20,30,54,100)\n",
    "print(t)"
   ]
  },
  {
   "cell_type": "code",
   "execution_count": 54,
   "id": "dcb18d4c",
   "metadata": {},
   "outputs": [],
   "source": [
    "## You could define a tuple in this way too\n",
    "t=tuple([10,203,0,40,5])"
   ]
  },
  {
   "cell_type": "code",
   "execution_count": 59,
   "id": "133d7f5b",
   "metadata": {},
   "outputs": [
    {
     "name": "stdout",
     "output_type": "stream",
     "text": [
      "(10, 203, 0, 40, 5)\n"
     ]
    }
   ],
   "source": [
    "print(t)"
   ]
  },
  {
   "cell_type": "code",
   "execution_count": 56,
   "id": "fd6b72df",
   "metadata": {},
   "outputs": [
    {
     "data": {
      "text/plain": [
       "tuple"
      ]
     },
     "execution_count": 56,
     "metadata": {},
     "output_type": "execute_result"
    }
   ],
   "source": [
    "## If you want to see the type\n",
    "type(t)"
   ]
  },
  {
   "cell_type": "code",
   "execution_count": 60,
   "id": "f5f821ba",
   "metadata": {},
   "outputs": [
    {
     "ename": "AttributeError",
     "evalue": "'tuple' object has no attribute 'add'",
     "output_type": "error",
     "traceback": [
      "\u001b[1;31m---------------------------------------------------------------------------\u001b[0m",
      "\u001b[1;31mAttributeError\u001b[0m                            Traceback (most recent call last)",
      "\u001b[1;32m<ipython-input-60-33d8e74a5bd3>\u001b[0m in \u001b[0;36m<module>\u001b[1;34m\u001b[0m\n\u001b[0;32m      1\u001b[0m \u001b[1;31m## As i said it is immutable\u001b[0m\u001b[1;33m\u001b[0m\u001b[1;33m\u001b[0m\u001b[1;33m\u001b[0m\u001b[0m\n\u001b[1;32m----> 2\u001b[1;33m \u001b[0mt\u001b[0m\u001b[1;33m.\u001b[0m\u001b[0madd\u001b[0m\u001b[1;33m(\u001b[0m\u001b[1;36m10\u001b[0m\u001b[1;33m)\u001b[0m\u001b[1;33m\u001b[0m\u001b[1;33m\u001b[0m\u001b[0m\n\u001b[0m",
      "\u001b[1;31mAttributeError\u001b[0m: 'tuple' object has no attribute 'add'"
     ]
    }
   ],
   "source": [
    "## As i said it is immutable\n",
    "t.add(10)"
   ]
  },
  {
   "cell_type": "code",
   "execution_count": 61,
   "id": "93dab24d",
   "metadata": {},
   "outputs": [
    {
     "ename": "AttributeError",
     "evalue": "'tuple' object has no attribute 'append'",
     "output_type": "error",
     "traceback": [
      "\u001b[1;31m---------------------------------------------------------------------------\u001b[0m",
      "\u001b[1;31mAttributeError\u001b[0m                            Traceback (most recent call last)",
      "\u001b[1;32m<ipython-input-61-a806b8ff4879>\u001b[0m in \u001b[0;36m<module>\u001b[1;34m\u001b[0m\n\u001b[1;32m----> 1\u001b[1;33m \u001b[0mt\u001b[0m\u001b[1;33m.\u001b[0m\u001b[0mappend\u001b[0m\u001b[1;33m(\u001b[0m\u001b[1;36m20\u001b[0m\u001b[1;33m)\u001b[0m\u001b[1;33m\u001b[0m\u001b[1;33m\u001b[0m\u001b[0m\n\u001b[0m",
      "\u001b[1;31mAttributeError\u001b[0m: 'tuple' object has no attribute 'append'"
     ]
    }
   ],
   "source": [
    "t.append(20)"
   ]
  },
  {
   "cell_type": "code",
   "execution_count": 62,
   "id": "bd86a8a8",
   "metadata": {},
   "outputs": [],
   "source": [
    "## You can't add or remove element from a tuple"
   ]
  },
  {
   "cell_type": "code",
   "execution_count": 64,
   "id": "eb5c2f48",
   "metadata": {},
   "outputs": [
    {
     "data": {
      "text/plain": [
       "203"
      ]
     },
     "execution_count": 64,
     "metadata": {},
     "output_type": "execute_result"
    }
   ],
   "source": [
    "## You can access any element by its index\n",
    "t[1]"
   ]
  },
  {
   "cell_type": "code",
   "execution_count": 65,
   "id": "c5fefbeb",
   "metadata": {},
   "outputs": [],
   "source": [
    "## create a tuple of [10,20,30,40]\n",
    "\n",
    "## print its type\n",
    "\n",
    "## Ans"
   ]
  },
  {
   "cell_type": "markdown",
   "id": "635424ac",
   "metadata": {},
   "source": [
    "## Set "
   ]
  },
  {
   "cell_type": "markdown",
   "id": "a9b181cd",
   "metadata": {},
   "source": [
    "A set is a collection of **unique** elements which is **unordered**, **unchangeable**, and **unindexed**."
   ]
  },
  {
   "cell_type": "code",
   "execution_count": 66,
   "id": "4ce6b16d",
   "metadata": {},
   "outputs": [],
   "source": [
    "## Syntax to create a set\n",
    "s={\"a\",\"b\",\"c\",\"d\"}"
   ]
  },
  {
   "cell_type": "code",
   "execution_count": 67,
   "id": "8628ddee",
   "metadata": {},
   "outputs": [
    {
     "name": "stdout",
     "output_type": "stream",
     "text": [
      "{'a', 'd', 'c', 'b'}\n"
     ]
    }
   ],
   "source": [
    "print(s)"
   ]
  },
  {
   "cell_type": "code",
   "execution_count": 70,
   "id": "ada6f723",
   "metadata": {},
   "outputs": [
    {
     "data": {
      "text/plain": [
       "set"
      ]
     },
     "execution_count": 70,
     "metadata": {},
     "output_type": "execute_result"
    }
   ],
   "source": [
    "type(s)"
   ]
  },
  {
   "cell_type": "code",
   "execution_count": 74,
   "id": "78817d59",
   "metadata": {},
   "outputs": [],
   "source": [
    "## Now I have bolded the unique , it means it does store any duplicates\n",
    "## example\n",
    "s={\"a\",\"a\",\"b\",\"b\",\"c\",\"c\",\"c\"}"
   ]
  },
  {
   "cell_type": "code",
   "execution_count": 75,
   "id": "83f94561",
   "metadata": {},
   "outputs": [
    {
     "data": {
      "text/plain": [
       "{'a', 'b', 'c'}"
      ]
     },
     "execution_count": 75,
     "metadata": {},
     "output_type": "execute_result"
    }
   ],
   "source": [
    "s"
   ]
  },
  {
   "cell_type": "code",
   "execution_count": 73,
   "id": "9cee07a9",
   "metadata": {},
   "outputs": [],
   "source": [
    "## Also it is unordered i.e it is not necessarliy mantains any order"
   ]
  },
  {
   "cell_type": "code",
   "execution_count": 76,
   "id": "c44ae222",
   "metadata": {},
   "outputs": [
    {
     "ename": "TypeError",
     "evalue": "'set' object is not subscriptable",
     "output_type": "error",
     "traceback": [
      "\u001b[1;31m---------------------------------------------------------------------------\u001b[0m",
      "\u001b[1;31mTypeError\u001b[0m                                 Traceback (most recent call last)",
      "\u001b[1;32m<ipython-input-76-59027fe2ebe2>\u001b[0m in \u001b[0;36m<module>\u001b[1;34m\u001b[0m\n\u001b[0;32m      1\u001b[0m \u001b[1;31m## You can't access any elemets by its index\u001b[0m\u001b[1;33m\u001b[0m\u001b[1;33m\u001b[0m\u001b[1;33m\u001b[0m\u001b[0m\n\u001b[1;32m----> 2\u001b[1;33m \u001b[0ms\u001b[0m\u001b[1;33m[\u001b[0m\u001b[1;36m0\u001b[0m\u001b[1;33m]\u001b[0m\u001b[1;33m\u001b[0m\u001b[1;33m\u001b[0m\u001b[0m\n\u001b[0m",
      "\u001b[1;31mTypeError\u001b[0m: 'set' object is not subscriptable"
     ]
    }
   ],
   "source": [
    "## You can't access any elemets by its index\n",
    "s[0]"
   ]
  },
  {
   "cell_type": "code",
   "execution_count": 79,
   "id": "be360c6d",
   "metadata": {},
   "outputs": [],
   "source": [
    "## But you can add elements to the set by s.add(value)\n",
    "s.add(100)"
   ]
  },
  {
   "cell_type": "code",
   "execution_count": 80,
   "id": "26bdef7e",
   "metadata": {},
   "outputs": [
    {
     "data": {
      "text/plain": [
       "{100, 'a', 'b', 'c'}"
      ]
     },
     "execution_count": 80,
     "metadata": {},
     "output_type": "execute_result"
    }
   ],
   "source": [
    "s"
   ]
  },
  {
   "cell_type": "markdown",
   "id": "03e84054",
   "metadata": {},
   "source": [
    "There are lot of method still available in set. I will recommend you to have a read on that [here](https://www.programiz.com/python-programming/set#:~:text=A%20set%20is%20an%20unordered,or%20remove%20items%20from%20it.)"
   ]
  },
  {
   "cell_type": "code",
   "execution_count": null,
   "id": "3183fcef",
   "metadata": {},
   "outputs": [],
   "source": [
    "## Now create a set and try to add one or two elements\n",
    "##Ans\n",
    "\n"
   ]
  },
  {
   "cell_type": "markdown",
   "id": "b6b6f700",
   "metadata": {},
   "source": [
    "## String"
   ]
  },
  {
   "cell_type": "code",
   "execution_count": 81,
   "id": "71c1f046",
   "metadata": {},
   "outputs": [],
   "source": [
    "#syntax to create a string is simple\n",
    "s=\"hello world\""
   ]
  },
  {
   "cell_type": "code",
   "execution_count": 82,
   "id": "b094050d",
   "metadata": {},
   "outputs": [
    {
     "data": {
      "text/plain": [
       "'HELLO WORLD'"
      ]
     },
     "execution_count": 82,
     "metadata": {},
     "output_type": "execute_result"
    }
   ],
   "source": [
    "## In order to change the case of each character to upper case\n",
    "s.upper()"
   ]
  },
  {
   "cell_type": "code",
   "execution_count": 83,
   "id": "819355a7",
   "metadata": {},
   "outputs": [
    {
     "data": {
      "text/plain": [
       "'hello world'"
      ]
     },
     "execution_count": 83,
     "metadata": {},
     "output_type": "execute_result"
    }
   ],
   "source": [
    "## Inorder to change the case of each character to lower case\n",
    "s.lower()"
   ]
  },
  {
   "cell_type": "code",
   "execution_count": 84,
   "id": "9a3946db",
   "metadata": {},
   "outputs": [
    {
     "data": {
      "text/plain": [
       "'Hello world'"
      ]
     },
     "execution_count": 84,
     "metadata": {},
     "output_type": "execute_result"
    }
   ],
   "source": [
    "## To create convert first letter of the sentence to upper\n",
    "s.capitalize()"
   ]
  },
  {
   "cell_type": "code",
   "execution_count": 85,
   "id": "4f80a5e8",
   "metadata": {},
   "outputs": [
    {
     "data": {
      "text/plain": [
       "True"
      ]
     },
     "execution_count": 85,
     "metadata": {},
     "output_type": "execute_result"
    }
   ],
   "source": [
    "## To check the string startswith a particular character or not\n",
    "s.startswith(\"h\")"
   ]
  },
  {
   "cell_type": "code",
   "execution_count": 86,
   "id": "e303dcbc",
   "metadata": {},
   "outputs": [
    {
     "data": {
      "text/plain": [
       "False"
      ]
     },
     "execution_count": 86,
     "metadata": {},
     "output_type": "execute_result"
    }
   ],
   "source": [
    "s.startswith(\"k\")"
   ]
  },
  {
   "cell_type": "code",
   "execution_count": 87,
   "id": "5ae347d7",
   "metadata": {},
   "outputs": [
    {
     "data": {
      "text/plain": [
       "['welcome', 'to', 'the', 'hello', 'world']"
      ]
     },
     "execution_count": 87,
     "metadata": {},
     "output_type": "execute_result"
    }
   ],
   "source": [
    "## To split the sentence by any value \n",
    "s=\"welcome to the hello world\"\n",
    "s.split()"
   ]
  },
  {
   "cell_type": "code",
   "execution_count": 89,
   "id": "06f0a93e",
   "metadata": {},
   "outputs": [
    {
     "name": "stdout",
     "output_type": "stream",
     "text": [
      "the sentence is a big sentence\n"
     ]
    }
   ],
   "source": [
    "## To remove unwanted space from both ends of a sentence\n",
    "s=\" the sentence is a big sentence \"\n",
    "print(s.strip())"
   ]
  },
  {
   "cell_type": "code",
   "execution_count": 90,
   "id": "1db3749e",
   "metadata": {},
   "outputs": [],
   "source": [
    "## Give me the domain name (gmail.com/ yahoo.com) of the each email id present in the list\n",
    "emails=[\"siddhant@gmail.com\",\"ankush@yahoo.com\",\"manish@google.com\",\"debanshu@amzoon.com\"]"
   ]
  },
  {
   "cell_type": "code",
   "execution_count": null,
   "id": "11dc4b68",
   "metadata": {},
   "outputs": [],
   "source": [
    "##Ans\n"
   ]
  },
  {
   "cell_type": "code",
   "execution_count": 91,
   "id": "e8f230a4",
   "metadata": {},
   "outputs": [
    {
     "data": {
      "text/plain": [
       "'Python is in my laptop'"
      ]
     },
     "execution_count": 91,
     "metadata": {},
     "output_type": "execute_result"
    }
   ],
   "source": [
    "## In order to create a sentence out of list of words\n",
    "words=[\"Python\",\"is\",\"in\",\"my\",\"laptop\"]\n",
    "\" \".join(words)"
   ]
  },
  {
   "cell_type": "code",
   "execution_count": 92,
   "id": "ac62793b",
   "metadata": {},
   "outputs": [],
   "source": [
    "words=[\"They\",\"are\",\"playing\",\"football\"]\n",
    "## Join these words to form a sentence\n",
    "##Ans"
   ]
  },
  {
   "cell_type": "code",
   "execution_count": null,
   "id": "b9aa4857",
   "metadata": {},
   "outputs": [],
   "source": []
  }
 ],
 "metadata": {
  "kernelspec": {
   "display_name": "Python 3",
   "language": "python",
   "name": "python3"
  },
  "language_info": {
   "codemirror_mode": {
    "name": "ipython",
    "version": 3
   },
   "file_extension": ".py",
   "mimetype": "text/x-python",
   "name": "python",
   "nbconvert_exporter": "python",
   "pygments_lexer": "ipython3",
   "version": "3.8.8"
  }
 },
 "nbformat": 4,
 "nbformat_minor": 5
}
